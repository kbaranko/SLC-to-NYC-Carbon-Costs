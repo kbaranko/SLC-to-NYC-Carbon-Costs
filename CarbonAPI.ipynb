{
 "cells": [
  {
   "cell_type": "code",
   "execution_count": 7,
   "metadata": {},
   "outputs": [],
   "source": [
    "import requests\n",
    "import json\n",
    "import pandas as pd\n",
    "import seaborn as sns\n",
    "import matplotlib.pyplot as plt\n",
    "import numpy as np\n",
    "%matplotlib inline"
   ]
  },
  {
   "cell_type": "markdown",
   "metadata": {},
   "source": [
    "Eliminating 'anyCar' from the list of travel modes becuase it is redundant."
   ]
  },
  {
   "cell_type": "code",
   "execution_count": 8,
   "metadata": {},
   "outputs": [],
   "source": [
    "list_of_modes = ['dieselCar', 'petrolCar', 'taxi', 'motorbike', 'bus', 'transitRail', 'economyFlight', 'businessFlight', 'firstclassFlight', 'anyFlight' ]          \n",
    "list_of_fuels = ['diesel', 'motorGasoline', 'motorGasoline', 'motorGasoline', 'diesel', 'diesel', 'jetFuel', 'jetFuel','jetFuel', 'aviationGasoline']\n",
    "\n",
    "\n"
   ]
  },
  {
   "cell_type": "markdown",
   "metadata": {},
   "source": [
    "Use carbon_slc_nyc function to calculate carbon emissions for list_of_modes\n",
    "    \n",
    "    "
   ]
  },
  {
   "cell_type": "code",
   "execution_count": 9,
   "metadata": {},
   "outputs": [],
   "source": [
    "def carbon_slc_nyc(type_list, fuel_list):\n",
    "    \"\"\"enter mode of transportation list and associated fuel type to calculate carbon emissions for round trip travel from new york to slc\"\"\"\n",
    "    carbon_footprint = []\n",
    "    carbon_dict = {}\n",
    "    for x, y in zip(type_list, fuel_list):\n",
    "        activity = 3910\n",
    "        type_ = 'miles'\n",
    "        mode = 'petrolCar'\n",
    "        country = 'usa'\n",
    "        url = f'https://api.triptocarbon.xyz/v1/footprint?activity={activity}&activityType={type_}&country={country}&mode={x}&fueltype={y}'\n",
    "        response = requests.get(url)\n",
    "        info = response.json()\n",
    "        carbon = str(list(info.values()))\n",
    "        carbon_footprint.append({x : carbon.strip(\"['']\")})\n",
    "    for d in carbon_footprint: \n",
    "        carbon_dict.update(d)\n",
    "    return carbon_dict "
   ]
  },
  {
   "cell_type": "code",
   "execution_count": 10,
   "metadata": {},
   "outputs": [
    {
     "data": {
      "text/plain": [
       "{'dieselCar': '1763.41',\n",
       " 'petrolCar': '1528.81',\n",
       " 'taxi': '899.30',\n",
       " 'motorbike': '793.73',\n",
       " 'bus': '418.37',\n",
       " 'transitRail': '637.33',\n",
       " 'economyFlight': '547.40',\n",
       " 'businessFlight': '1180.82',\n",
       " 'firstclassFlight': '1470.16',\n",
       " 'anyFlight': '723.35'}"
      ]
     },
     "execution_count": 10,
     "metadata": {},
     "output_type": "execute_result"
    }
   ],
   "source": [
    "carbon_footprint = {}\n",
    "carbon_footprint = carbon_slc_nyc(list_of_modes, list_of_fuels)\n",
    "carbon_footprint"
   ]
  },
  {
   "cell_type": "markdown",
   "metadata": {},
   "source": [
    "Turn dictionary into dataframe in preparation for plotting "
   ]
  },
  {
   "cell_type": "code",
   "execution_count": null,
   "metadata": {},
   "outputs": [],
   "source": []
  },
  {
   "cell_type": "code",
   "execution_count": 12,
   "metadata": {
    "scrolled": true
   },
   "outputs": [],
   "source": [
    "df = pd.DataFrame(list(carbon_footprint.items()))\n",
    "df.rename(columns = {0 :'Type of Transport'}, inplace = True)\n",
    "df.rename(columns = {1 :'Carbon_Footprint'}, inplace = True)\n",
    "df['Carbon_Footprint'] = df['Carbon_Footprint'].astype('float64')\n"
   ]
  },
  {
   "cell_type": "code",
   "execution_count": 13,
   "metadata": {},
   "outputs": [
    {
     "data": {
      "text/html": [
       "<div>\n",
       "<style scoped>\n",
       "    .dataframe tbody tr th:only-of-type {\n",
       "        vertical-align: middle;\n",
       "    }\n",
       "\n",
       "    .dataframe tbody tr th {\n",
       "        vertical-align: top;\n",
       "    }\n",
       "\n",
       "    .dataframe thead th {\n",
       "        text-align: right;\n",
       "    }\n",
       "</style>\n",
       "<table border=\"1\" class=\"dataframe\">\n",
       "  <thead>\n",
       "    <tr style=\"text-align: right;\">\n",
       "      <th></th>\n",
       "      <th>Type of Transport</th>\n",
       "      <th>Carbon_Footprint</th>\n",
       "    </tr>\n",
       "  </thead>\n",
       "  <tbody>\n",
       "    <tr>\n",
       "      <th>0</th>\n",
       "      <td>dieselCar</td>\n",
       "      <td>1763.41</td>\n",
       "    </tr>\n",
       "    <tr>\n",
       "      <th>1</th>\n",
       "      <td>petrolCar</td>\n",
       "      <td>1528.81</td>\n",
       "    </tr>\n",
       "    <tr>\n",
       "      <th>2</th>\n",
       "      <td>taxi</td>\n",
       "      <td>899.30</td>\n",
       "    </tr>\n",
       "    <tr>\n",
       "      <th>3</th>\n",
       "      <td>motorbike</td>\n",
       "      <td>793.73</td>\n",
       "    </tr>\n",
       "    <tr>\n",
       "      <th>4</th>\n",
       "      <td>bus</td>\n",
       "      <td>418.37</td>\n",
       "    </tr>\n",
       "    <tr>\n",
       "      <th>5</th>\n",
       "      <td>transitRail</td>\n",
       "      <td>637.33</td>\n",
       "    </tr>\n",
       "    <tr>\n",
       "      <th>6</th>\n",
       "      <td>economyFlight</td>\n",
       "      <td>547.40</td>\n",
       "    </tr>\n",
       "    <tr>\n",
       "      <th>7</th>\n",
       "      <td>businessFlight</td>\n",
       "      <td>1180.82</td>\n",
       "    </tr>\n",
       "    <tr>\n",
       "      <th>8</th>\n",
       "      <td>firstclassFlight</td>\n",
       "      <td>1470.16</td>\n",
       "    </tr>\n",
       "    <tr>\n",
       "      <th>9</th>\n",
       "      <td>anyFlight</td>\n",
       "      <td>723.35</td>\n",
       "    </tr>\n",
       "  </tbody>\n",
       "</table>\n",
       "</div>"
      ],
      "text/plain": [
       "  Type of Transport  Carbon_Footprint\n",
       "0         dieselCar           1763.41\n",
       "1         petrolCar           1528.81\n",
       "2              taxi            899.30\n",
       "3         motorbike            793.73\n",
       "4               bus            418.37\n",
       "5       transitRail            637.33\n",
       "6     economyFlight            547.40\n",
       "7    businessFlight           1180.82\n",
       "8  firstclassFlight           1470.16\n",
       "9         anyFlight            723.35"
      ]
     },
     "execution_count": 13,
     "metadata": {},
     "output_type": "execute_result"
    }
   ],
   "source": [
    "df"
   ]
  },
  {
   "cell_type": "code",
   "execution_count": 16,
   "metadata": {
    "scrolled": true
   },
   "outputs": [
    {
     "data": {
      "text/plain": [
       "(array([0, 1, 2, 3, 4, 5, 6, 7, 8, 9]), <a list of 10 Text xticklabel objects>)"
      ]
     },
     "execution_count": 16,
     "metadata": {},
     "output_type": "execute_result"
    },
    {
     "data": {
      "image/png": "[encoded data removed]",
      "text/plain": [
       "<Figure size 720x360 with 1 Axes>"
      ]
     },
     "metadata": {
      "needs_background": "light"
     },
     "output_type": "display_data"
    }
   ],
   "source": [
    "plt.figure(figsize=(10,5))\n",
    "sns.barplot(x=df['Type of Transport'], y=df['Carbon_Footprint'])\n",
    "plt.xticks(rotation=45)"
   ]
  },
  {
   "cell_type": "markdown",
   "metadata": {},
   "source": [
    "Now, repeat process and compare to UK by calling carbon_uk function  "
   ]
  },
  {
   "cell_type": "code",
   "execution_count": 18,
   "metadata": {},
   "outputs": [],
   "source": [
    "def carbon_uk(type_list, fuel_list):\n",
    "    \"\"\"enter mode of transportation list and associated fuel type to calculate travel carbon emissions for 3910 miles travel in UK\"\"\"\n",
    "    carbon_footprint = []\n",
    "    carbon_dict = {}\n",
    "    for x, y in zip(type_list, fuel_list):\n",
    "        activity = 3910\n",
    "        type_ = 'miles'\n",
    "        country = 'gbr'\n",
    "        url = f'https://api.triptocarbon.xyz/v1/footprint?activity={activity}&activityType={type_}&country={country}&mode={x}&fueltype={y}'\n",
    "        response = requests.get(url)\n",
    "        info = response.json()\n",
    "        carbon = str(list(info.values()))\n",
    "        carbon_footprint.append({x : carbon.strip(\"['']\")})\n",
    "    for d in carbon_footprint: \n",
    "        carbon_dict.update(d)\n",
    "    return carbon_dict"
   ]
  },
  {
   "cell_type": "code",
   "execution_count": 19,
   "metadata": {},
   "outputs": [
    {
     "data": {
      "text/html": [
       "<div>\n",
       "<style scoped>\n",
       "    .dataframe tbody tr th:only-of-type {\n",
       "        vertical-align: middle;\n",
       "    }\n",
       "\n",
       "    .dataframe tbody tr th {\n",
       "        vertical-align: top;\n",
       "    }\n",
       "\n",
       "    .dataframe thead th {\n",
       "        text-align: right;\n",
       "    }\n",
       "</style>\n",
       "<table border=\"1\" class=\"dataframe\">\n",
       "  <thead>\n",
       "    <tr style=\"text-align: right;\">\n",
       "      <th></th>\n",
       "      <th>Type of Transport (UK)</th>\n",
       "      <th>Carbon_Footprint_UK</th>\n",
       "    </tr>\n",
       "  </thead>\n",
       "  <tbody>\n",
       "    <tr>\n",
       "      <th>0</th>\n",
       "      <td>dieselCar</td>\n",
       "      <td>1223.83</td>\n",
       "    </tr>\n",
       "    <tr>\n",
       "      <th>1</th>\n",
       "      <td>petrolCar</td>\n",
       "      <td>1321.58</td>\n",
       "    </tr>\n",
       "    <tr>\n",
       "      <th>2</th>\n",
       "      <td>taxi</td>\n",
       "      <td>954.04</td>\n",
       "    </tr>\n",
       "    <tr>\n",
       "      <th>3</th>\n",
       "      <td>motorbike</td>\n",
       "      <td>727.26</td>\n",
       "    </tr>\n",
       "    <tr>\n",
       "      <th>4</th>\n",
       "      <td>bus</td>\n",
       "      <td>836.74</td>\n",
       "    </tr>\n",
       "    <tr>\n",
       "      <th>5</th>\n",
       "      <td>transitRail</td>\n",
       "      <td>477.02</td>\n",
       "    </tr>\n",
       "    <tr>\n",
       "      <th>6</th>\n",
       "      <td>economyFlight</td>\n",
       "      <td>547.40</td>\n",
       "    </tr>\n",
       "    <tr>\n",
       "      <th>7</th>\n",
       "      <td>businessFlight</td>\n",
       "      <td>1180.82</td>\n",
       "    </tr>\n",
       "    <tr>\n",
       "      <th>8</th>\n",
       "      <td>firstclassFlight</td>\n",
       "      <td>1470.16</td>\n",
       "    </tr>\n",
       "    <tr>\n",
       "      <th>9</th>\n",
       "      <td>anyFlight</td>\n",
       "      <td>723.35</td>\n",
       "    </tr>\n",
       "  </tbody>\n",
       "</table>\n",
       "</div>"
      ],
      "text/plain": [
       "  Type of Transport (UK)  Carbon_Footprint_UK\n",
       "0              dieselCar              1223.83\n",
       "1              petrolCar              1321.58\n",
       "2                   taxi               954.04\n",
       "3              motorbike               727.26\n",
       "4                    bus               836.74\n",
       "5            transitRail               477.02\n",
       "6          economyFlight               547.40\n",
       "7         businessFlight              1180.82\n",
       "8       firstclassFlight              1470.16\n",
       "9              anyFlight               723.35"
      ]
     },
     "execution_count": 19,
     "metadata": {},
     "output_type": "execute_result"
    }
   ],
   "source": [
    "carbon_footprint_uk = {}\n",
    "carbon_footprint_uk = carbon_uk(list_of_modes, list_of_fuels)\n",
    "df_ground_uk = pd.DataFrame(list(carbon_footprint_uk.items()))\n",
    "df_ground_uk.rename(columns = {0 :'Type of Transport (UK)'}, inplace = True)\n",
    "df_ground_uk.rename(columns = {1 :'Carbon_Footprint_UK'}, inplace = True)\n",
    "df_ground_uk['Carbon_Footprint_UK'] = df_ground_uk['Carbon_Footprint_UK'].astype('float64')\n",
    "df_ground_uk"
   ]
  },
  {
   "cell_type": "markdown",
   "metadata": {},
   "source": [
    "Repeat process for world/default averages by using carbon_world function"
   ]
  },
  {
   "cell_type": "code",
   "execution_count": 21,
   "metadata": {},
   "outputs": [],
   "source": [
    "def carbon_world(type_list, fuel_list):\n",
    "    \"\"\"enter mode of transportation list and associated fuel type to calculate travel carbon emissions for 3910 miles travel according to default/world average\"\"\"\n",
    "    carbon_footprint = []\n",
    "    carbon_dict = {}\n",
    "    for x, y in zip(type_list, fuel_list):\n",
    "        activity = 3910\n",
    "        type_ = 'miles'\n",
    "        country = 'def'\n",
    "        url = f'https://api.triptocarbon.xyz/v1/footprint?activity={activity}&activityType={type_}&country={country}&mode={x}&fueltype={y}'\n",
    "        response = requests.get(url)\n",
    "        info = response.json()\n",
    "        carbon = str(list(info.values()))\n",
    "        carbon_footprint.append({x : carbon.strip(\"['']\")})\n",
    "    for d in carbon_footprint: \n",
    "        carbon_dict.update(d)\n",
    "    return carbon_dict"
   ]
  },
  {
   "cell_type": "code",
   "execution_count": 22,
   "metadata": {
    "scrolled": true
   },
   "outputs": [
    {
     "data": {
      "text/html": [
       "<div>\n",
       "<style scoped>\n",
       "    .dataframe tbody tr th:only-of-type {\n",
       "        vertical-align: middle;\n",
       "    }\n",
       "\n",
       "    .dataframe tbody tr th {\n",
       "        vertical-align: top;\n",
       "    }\n",
       "\n",
       "    .dataframe thead th {\n",
       "        text-align: right;\n",
       "    }\n",
       "</style>\n",
       "<table border=\"1\" class=\"dataframe\">\n",
       "  <thead>\n",
       "    <tr style=\"text-align: right;\">\n",
       "      <th></th>\n",
       "      <th>Type of Transport (World)</th>\n",
       "      <th>Carbon_Footprint_World</th>\n",
       "    </tr>\n",
       "  </thead>\n",
       "  <tbody>\n",
       "    <tr>\n",
       "      <th>0</th>\n",
       "      <td>dieselCar</td>\n",
       "      <td>1759.50</td>\n",
       "    </tr>\n",
       "    <tr>\n",
       "      <th>1</th>\n",
       "      <td>petrolCar</td>\n",
       "      <td>1493.62</td>\n",
       "    </tr>\n",
       "    <tr>\n",
       "      <th>2</th>\n",
       "      <td>taxi</td>\n",
       "      <td>899.30</td>\n",
       "    </tr>\n",
       "    <tr>\n",
       "      <th>3</th>\n",
       "      <td>motorbike</td>\n",
       "      <td>782.00</td>\n",
       "    </tr>\n",
       "    <tr>\n",
       "      <th>4</th>\n",
       "      <td>bus</td>\n",
       "      <td>418.37</td>\n",
       "    </tr>\n",
       "    <tr>\n",
       "      <th>5</th>\n",
       "      <td>transitRail</td>\n",
       "      <td>637.33</td>\n",
       "    </tr>\n",
       "    <tr>\n",
       "      <th>6</th>\n",
       "      <td>economyFlight</td>\n",
       "      <td>547.40</td>\n",
       "    </tr>\n",
       "    <tr>\n",
       "      <th>7</th>\n",
       "      <td>businessFlight</td>\n",
       "      <td>1180.82</td>\n",
       "    </tr>\n",
       "    <tr>\n",
       "      <th>8</th>\n",
       "      <td>firstclassFlight</td>\n",
       "      <td>1470.16</td>\n",
       "    </tr>\n",
       "    <tr>\n",
       "      <th>9</th>\n",
       "      <td>anyFlight</td>\n",
       "      <td>723.35</td>\n",
       "    </tr>\n",
       "  </tbody>\n",
       "</table>\n",
       "</div>"
      ],
      "text/plain": [
       "  Type of Transport (World)  Carbon_Footprint_World\n",
       "0                 dieselCar                 1759.50\n",
       "1                 petrolCar                 1493.62\n",
       "2                      taxi                  899.30\n",
       "3                 motorbike                  782.00\n",
       "4                       bus                  418.37\n",
       "5               transitRail                  637.33\n",
       "6             economyFlight                  547.40\n",
       "7            businessFlight                 1180.82\n",
       "8          firstclassFlight                 1470.16\n",
       "9                 anyFlight                  723.35"
      ]
     },
     "execution_count": 22,
     "metadata": {},
     "output_type": "execute_result"
    }
   ],
   "source": [
    "carbon_footprint_world = {}\n",
    "carbon_footprint_world = carbon_world(list_of_modes, list_of_fuels)\n",
    "df_ground_world = pd.DataFrame(list(carbon_footprint_world.items()))\n",
    "df_ground_world.rename(columns = {0 :'Type of Transport (World)'}, inplace = True)\n",
    "df_ground_world.rename(columns = {1 :'Carbon_Footprint_World'}, inplace = True)\n",
    "df_ground_world['Carbon_Footprint_World'] = df_ground_world['Carbon_Footprint_World'].astype('float64')\n",
    "df_ground_world"
   ]
  },
  {
   "cell_type": "markdown",
   "metadata": {},
   "source": [
    "Create and plot joined dataframes to compare between usa, uk, and world."
   ]
  },
  {
   "cell_type": "code",
   "execution_count": 24,
   "metadata": {
    "scrolled": true
   },
   "outputs": [
    {
     "data": {
      "text/plain": [
       "<matplotlib.axes._subplots.AxesSubplot at 0x1a1b4cb3c8>"
      ]
     },
     "execution_count": 24,
     "metadata": {},
     "output_type": "execute_result"
    },
    {
     "data": {
      "image/png": "[encoded data removed]",
      "text/plain": [
       "<Figure size 432x288 with 1 Axes>"
      ]
     },
     "metadata": {
      "needs_background": "light"
     },
     "output_type": "display_data"
    }
   ],
   "source": [
    "pd.concat({\n",
    "    'US': df.set_index('Type of Transport').Carbon_Footprint, 'UK': df_ground_uk.set_index('Type of Transport (UK)').Carbon_Footprint_UK, 'World': df_ground_world.set_index('Type of Transport (World)').Carbon_Footprint_World\n",
    "}, axis=1).plot.bar()\n",
    "\n",
    "\n"
   ]
  },
  {
   "cell_type": "code",
   "execution_count": 35,
   "metadata": {},
   "outputs": [],
   "source": [
    "def carbon_fuel(fuel_gallons, fuel_type):\n",
    "    \"\"\"enter amount of fuel in gallons and fuel type to obtain carbon footprint for journey \"\"\"\n",
    "    carbon_footprint = []\n",
    "    carbon_dict = {}\n",
    "    for x, y in zip(fuel_gallons, fuel_type):\n",
    "        url = f'https://api.triptocarbon.xyz/v1/footprint?activity={x}&activityType=fuel&country=usa&fuelType={y}'\n",
    "        response = requests.get(url)\n",
    "        info = response.json()\n",
    "        carbon = str(list(info.values()))\n",
    "        carbon_footprint.append({y : carbon.strip(\"['']\")})\n",
    "    for d in carbon_footprint: \n",
    "        carbon_dict.update(d)\n",
    "    return carbon_dict "
   ]
  },
  {
   "cell_type": "code",
   "execution_count": 42,
   "metadata": {},
   "outputs": [],
   "source": [
    "#miles per seat gallon divided by seats on the plane \n",
    "A220_mpg_A = (85.6 / 140) \n",
    "suburu_mpg_A = 33 \n",
    "greyhound_mpg_A = 6\n",
    "A220_gal_A = 3910/A220_mpg_A\n",
    "suburu_gal_A = 3910/suburu_mpg_A\n",
    "greyhound_gal_A = 3910/greyhound_mpg_A\n",
    "list_gallons_A = [suburu_gal_A, greyhound_gal_A, A220_gal_A]\n",
    "list_fuel_type_A = ['motorGasoline', 'diesel', 'jetFuel']\n",
    "#call API and create dataframe \n",
    "carbon_footprint_A = {}\n",
    "carbon_footprint_A = carbon_fuel(list_gallons_A, list_fuel_type_A) \n",
    "df_A = pd.DataFrame(list(carbon_footprint_A.items()))\n",
    "df_A.rename(columns = {0 :'Fuel_Type'}, inplace = True)\n",
    "df_A.rename(columns = {1 :'Carbon_Footprint'}, inplace = True)\n",
    "df_A['Carbon_Footprint'] = df_A['Carbon_Footprint'].astype('float64')"
   ]
  },
  {
   "cell_type": "code",
   "execution_count": 44,
   "metadata": {},
   "outputs": [
    {
     "data": {
      "text/plain": [
       "(array([0, 1, 2]), <a list of 3 Text xticklabel objects>)"
      ]
     },
     "execution_count": 44,
     "metadata": {},
     "output_type": "execute_result"
    },
    {
     "data": {
      "image/png": "[encoded data removed]",
      "text/plain": [
       "<Figure size 720x360 with 1 Axes>"
      ]
     },
     "metadata": {
      "needs_background": "light"
     },
     "output_type": "display_data"
    }
   ],
   "source": [
    "plt.figure(figsize=(10,5))\n",
    "sns.barplot(x=df_A['Fuel_Type'], y=df_A['Carbon_Footprint'])\n",
    "plt.xticks(rotation=45)"
   ]
  },
  {
   "cell_type": "code",
   "execution_count": 45,
   "metadata": {},
   "outputs": [],
   "source": [
    "#now adjust to miles per seat gallon\n",
    "A220_mpg_B = 85.6 \n",
    "suburu_mpg_B = 33 \n",
    "#adjusting to miles per seat gallon with 55 seats\n",
    "greyhound_mpg_B = 6 * 55 \n",
    "A220_gal_B = 3910/A220_mpg_B\n",
    "suburu_gal_B = 3910/suburu_mpg_B\n",
    "greyhound_gal_B = 3910/greyhound_mpg_B\n",
    "list_gallons_B = [suburu_gal_B, greyhound_gal_B, A220_gal_B]\n",
    "list_fuel_type_B = ['motorGasoline', 'diesel', 'jetFuel']\n",
    "#call API and create dataframe\n",
    "carbon_footprint_B = {}\n",
    "carbon_footprint_B = carbon_fuel(list_gallons_B, list_fuel_type_B)\n",
    "df_B = pd.DataFrame(list(carbon_footprint_B.items()))\n",
    "df_B.rename(columns = {0 :'Fuel_Type'}, inplace = True)\n",
    "df_B.rename(columns = {1 :'Carbon_Footprint'}, inplace = True)\n",
    "df_B['Carbon_Footprint'] = df_B['Carbon_Footprint'].astype('float64')"
   ]
  },
  {
   "cell_type": "code",
   "execution_count": 46,
   "metadata": {},
   "outputs": [
    {
     "data": {
      "text/plain": [
       "(array([0, 1, 2]), <a list of 3 Text xticklabel objects>)"
      ]
     },
     "execution_count": 46,
     "metadata": {},
     "output_type": "execute_result"
    },
    {
     "data": {
      "image/png": "[encoded data removed]",
      "text/plain": [
       "<Figure size 720x360 with 1 Axes>"
      ]
     },
     "metadata": {
      "needs_background": "light"
     },
     "output_type": "display_data"
    }
   ],
   "source": [
    "plt.figure(figsize=(10,5))\n",
    "sns.barplot(x=df_B['Fuel_Type'], y=df_B['Carbon_Footprint'])\n",
    "plt.xticks(rotation=45)"
   ]
  }
 ],
 "metadata": {
  "kernelspec": {
   "display_name": "Python 3",
   "language": "python",
   "name": "python3"
  },
  "language_info": {
   "codemirror_mode": {
    "name": "ipython",
    "version": 3
   },
   "file_extension": ".py",
   "mimetype": "text/x-python",
   "name": "python",
   "nbconvert_exporter": "python",
   "pygments_lexer": "ipython3",
   "version": "3.6.6"
  }
 },
 "nbformat": 4,
 "nbformat_minor": 2
}
